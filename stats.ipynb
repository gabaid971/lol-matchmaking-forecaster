{
 "cells": [
  {
   "cell_type": "code",
   "execution_count": 7,
   "metadata": {},
   "outputs": [],
   "source": [
    "import random\n",
    "from sortedcontainers import SortedList\n",
    "import arrow\n",
    "\n",
    "from cassiopeia.core import Summoner, MatchHistory, Match\n",
    "from cassiopeia import Queue, Patch"
   ]
  },
  {
   "cell_type": "code",
   "execution_count": 6,
   "metadata": {},
   "outputs": [
    {
     "name": "stdout",
     "output_type": "stream",
     "text": [
      "Collecting sortedcontainers\n",
      "  Downloading sortedcontainers-2.4.0-py2.py3-none-any.whl (29 kB)\n",
      "Installing collected packages: sortedcontainers\n",
      "Successfully installed sortedcontainers-2.4.0\n",
      "Note: you may need to restart the kernel to use updated packages.\n"
     ]
    }
   ],
   "source": [
    "pip install sortedcontainers"
   ]
  },
  {
   "cell_type": "code",
   "execution_count": 2,
   "metadata": {},
   "outputs": [],
   "source": [
    "cass.set_riot_api_key(\"RGAPI-6a92f2a7-9ffc-41c8-a2e6-da45a1d1d8f8\")"
   ]
  },
  {
   "cell_type": "code",
   "execution_count": 28,
   "metadata": {},
   "outputs": [],
   "source": [
    "summoner = cass.get_summoner(name=\"Ckronikkss\", region=\"EUW\")"
   ]
  },
  {
   "cell_type": "code",
   "execution_count": 3,
   "metadata": {},
   "outputs": [
    {
     "ename": "AttributeError",
     "evalue": "module 'cassiopeia' has no attribute 'get_recent_games'",
     "output_type": "error",
     "traceback": [
      "\u001b[1;31m---------------------------------------------------------------------------\u001b[0m",
      "\u001b[1;31mAttributeError\u001b[0m                            Traceback (most recent call last)",
      "Cell \u001b[1;32mIn[3], line 1\u001b[0m\n\u001b[1;32m----> 1\u001b[0m \u001b[43mcass\u001b[49m\u001b[38;5;241;43m.\u001b[39;49m\u001b[43mget_recent_games\u001b[49m(\u001b[38;5;124m'\u001b[39m\u001b[38;5;124mndOfVgM9uutDavTiMXpstpQ_atFOFoFY7odwsKNSfctrHNE\u001b[39m\u001b[38;5;124m'\u001b[39m)\n",
      "\u001b[1;31mAttributeError\u001b[0m: module 'cassiopeia' has no attribute 'get_recent_games'"
     ]
    }
   ],
   "source": [
    "cass.get_recent_games('ndOfVgM9uutDavTiMXpstpQ_atFOFoFY7odwsKNSfctrHNE')"
   ]
  },
  {
   "cell_type": "code",
   "execution_count": 15,
   "metadata": {},
   "outputs": [
    {
     "ename": "TypeError",
     "evalue": "__get_query_from_kwargs__() got an unexpected keyword argument 'summoner'",
     "output_type": "error",
     "traceback": [
      "\u001b[1;31m---------------------------------------------------------------------------\u001b[0m",
      "\u001b[1;31mTypeError\u001b[0m                                 Traceback (most recent call last)",
      "Cell \u001b[1;32mIn[15], line 48\u001b[0m\n\u001b[0;32m     45\u001b[0m             unpulled_match_ids\u001b[38;5;241m.\u001b[39mremove(new_match_id)\n\u001b[0;32m     46\u001b[0m             pulled_match_ids\u001b[38;5;241m.\u001b[39madd(new_match_id)\n\u001b[1;32m---> 48\u001b[0m \u001b[43mcollect_matches\u001b[49m\u001b[43m(\u001b[49m\u001b[38;5;124;43m\"\u001b[39;49m\u001b[38;5;124;43mCkronikks\u001b[39;49m\u001b[38;5;124;43m\"\u001b[39;49m\u001b[43m,\u001b[49m\u001b[43m \u001b[49m\u001b[38;5;124;43m\"\u001b[39;49m\u001b[38;5;124;43mEUW\u001b[39;49m\u001b[38;5;124;43m\"\u001b[39;49m\u001b[43m)\u001b[49m\n",
      "Cell \u001b[1;32mIn[15], line 28\u001b[0m, in \u001b[0;36mcollect_matches\u001b[1;34m(initial_summoner_name, region)\u001b[0m\n\u001b[0;32m     26\u001b[0m new_summoner_id \u001b[38;5;241m=\u001b[39m random\u001b[38;5;241m.\u001b[39mchoice(unpulled_summoner_ids)\n\u001b[0;32m     27\u001b[0m new_summoner \u001b[38;5;241m=\u001b[39m Summoner(\u001b[38;5;28mid\u001b[39m\u001b[38;5;241m=\u001b[39mnew_summoner_id, region\u001b[38;5;241m=\u001b[39mregion)\n\u001b[1;32m---> 28\u001b[0m matches \u001b[38;5;241m=\u001b[39m filter_match_history(new_summoner, patch)\n\u001b[0;32m     29\u001b[0m unpulled_match_ids\u001b[38;5;241m.\u001b[39mupdate([match\u001b[38;5;241m.\u001b[39mid \u001b[38;5;28;01mfor\u001b[39;00m match \u001b[38;5;129;01min\u001b[39;00m matches])\n\u001b[0;32m     30\u001b[0m unpulled_summoner_ids\u001b[38;5;241m.\u001b[39mremove(new_summoner_id)\n",
      "Cell \u001b[1;32mIn[15], line 5\u001b[0m, in \u001b[0;36mfilter_match_history\u001b[1;34m(summoner, patch)\u001b[0m\n\u001b[0;32m      3\u001b[0m \u001b[38;5;28;01mif\u001b[39;00m end_time \u001b[38;5;129;01mis\u001b[39;00m \u001b[38;5;28;01mNone\u001b[39;00m:\n\u001b[0;32m      4\u001b[0m     end_time \u001b[38;5;241m=\u001b[39m arrow\u001b[38;5;241m.\u001b[39mnow()\n\u001b[1;32m----> 5\u001b[0m match_history \u001b[38;5;241m=\u001b[39m \u001b[43mMatchHistory\u001b[49m\u001b[43m(\u001b[49m\n\u001b[0;32m      6\u001b[0m \u001b[43m    \u001b[49m\u001b[43msummoner\u001b[49m\u001b[38;5;241;43m=\u001b[39;49m\u001b[43msummoner\u001b[49m\u001b[43m,\u001b[49m\n\u001b[0;32m      7\u001b[0m \u001b[43m    \u001b[49m\u001b[43mqueues\u001b[49m\u001b[38;5;241;43m=\u001b[39;49m\u001b[43m{\u001b[49m\u001b[43mQueue\u001b[49m\u001b[38;5;241;43m.\u001b[39;49m\u001b[43maram\u001b[49m\u001b[43m}\u001b[49m\u001b[43m,\u001b[49m\n\u001b[0;32m      8\u001b[0m \u001b[43m    \u001b[49m\u001b[43mbegin_time\u001b[49m\u001b[38;5;241;43m=\u001b[39;49m\u001b[43mpatch\u001b[49m\u001b[38;5;241;43m.\u001b[39;49m\u001b[43mstart\u001b[49m\u001b[43m,\u001b[49m\n\u001b[0;32m      9\u001b[0m \u001b[43m    \u001b[49m\u001b[43mend_time\u001b[49m\u001b[38;5;241;43m=\u001b[39;49m\u001b[43mend_time\u001b[49m\u001b[43m,\u001b[49m\n\u001b[0;32m     10\u001b[0m \u001b[43m\u001b[49m\u001b[43m)\u001b[49m\n\u001b[0;32m     11\u001b[0m \u001b[38;5;28;01mreturn\u001b[39;00m match_history\n",
      "File \u001b[1;32m~\\AppData\\Local\\Packages\\PythonSoftwareFoundation.Python.3.9_qbz5n2kfra8p0\\LocalCache\\local-packages\\Python39\\site-packages\\cassiopeia\\core\\common.py:191\u001b[0m, in \u001b[0;36mGetFromPipeline.__call__\u001b[1;34m(cls, *args, **kwargs)\u001b[0m\n\u001b[0;32m    <a href='file:///~/AppData/Local/Packages/PythonSoftwareFoundation.Python.3.9_qbz5n2kfra8p0/LocalCache/local-packages/Python39/site-packages/cassiopeia/core/common.py?line=188'>189</a>\u001b[0m \u001b[39mdef\u001b[39;00m \u001b[39m__call__\u001b[39m(\u001b[39mcls\u001b[39m: \u001b[39m\"\u001b[39m\u001b[39mCassiopeiaPipelineObject\u001b[39m\u001b[39m\"\u001b[39m, \u001b[39m*\u001b[39margs, \u001b[39m*\u001b[39m\u001b[39m*\u001b[39mkwargs):\n\u001b[0;32m    <a href='file:///~/AppData/Local/Packages/PythonSoftwareFoundation.Python.3.9_qbz5n2kfra8p0/LocalCache/local-packages/Python39/site-packages/cassiopeia/core/common.py?line=189'>190</a>\u001b[0m     pipeline \u001b[39m=\u001b[39m configuration\u001b[39m.\u001b[39msettings\u001b[39m.\u001b[39mpipeline\n\u001b[1;32m--> <a href='file:///~/AppData/Local/Packages/PythonSoftwareFoundation.Python.3.9_qbz5n2kfra8p0/LocalCache/local-packages/Python39/site-packages/cassiopeia/core/common.py?line=190'>191</a>\u001b[0m     query \u001b[39m=\u001b[39m \u001b[39mcls\u001b[39m\u001b[39m.\u001b[39m__get_query_from_kwargs__(\u001b[39m*\u001b[39m\u001b[39m*\u001b[39mkwargs)\n\u001b[0;32m    <a href='file:///~/AppData/Local/Packages/PythonSoftwareFoundation.Python.3.9_qbz5n2kfra8p0/LocalCache/local-packages/Python39/site-packages/cassiopeia/core/common.py?line=191'>192</a>\u001b[0m     \u001b[39mif\u001b[39;00m (\n\u001b[0;32m    <a href='file:///~/AppData/Local/Packages/PythonSoftwareFoundation.Python.3.9_qbz5n2kfra8p0/LocalCache/local-packages/Python39/site-packages/cassiopeia/core/common.py?line=192'>193</a>\u001b[0m         \u001b[39mhasattr\u001b[39m(\u001b[39mcls\u001b[39m, \u001b[39m\"\u001b[39m\u001b[39mversion\u001b[39m\u001b[39m\"\u001b[39m)\n\u001b[0;32m    <a href='file:///~/AppData/Local/Packages/PythonSoftwareFoundation.Python.3.9_qbz5n2kfra8p0/LocalCache/local-packages/Python39/site-packages/cassiopeia/core/common.py?line=193'>194</a>\u001b[0m         \u001b[39mand\u001b[39;00m query\u001b[39m.\u001b[39mget(\u001b[39m\"\u001b[39m\u001b[39mversion\u001b[39m\u001b[39m\"\u001b[39m, \u001b[39mNone\u001b[39;00m) \u001b[39mis\u001b[39;00m \u001b[39mNone\u001b[39;00m\n\u001b[0;32m    <a href='file:///~/AppData/Local/Packages/PythonSoftwareFoundation.Python.3.9_qbz5n2kfra8p0/LocalCache/local-packages/Python39/site-packages/cassiopeia/core/common.py?line=194'>195</a>\u001b[0m         \u001b[39mand\u001b[39;00m \u001b[39mcls\u001b[39m\u001b[39m.\u001b[39m\u001b[39m__name__\u001b[39m \u001b[39mnot\u001b[39;00m \u001b[39min\u001b[39;00m [\u001b[39m\"\u001b[39m\u001b[39mRealms\u001b[39m\u001b[39m\"\u001b[39m, \u001b[39m\"\u001b[39m\u001b[39mMatch\u001b[39m\u001b[39m\"\u001b[39m]\n\u001b[0;32m    <a href='file:///~/AppData/Local/Packages/PythonSoftwareFoundation.Python.3.9_qbz5n2kfra8p0/LocalCache/local-packages/Python39/site-packages/cassiopeia/core/common.py?line=195'>196</a>\u001b[0m     ):\n\u001b[0;32m    <a href='file:///~/AppData/Local/Packages/PythonSoftwareFoundation.Python.3.9_qbz5n2kfra8p0/LocalCache/local-packages/Python39/site-packages/cassiopeia/core/common.py?line=196'>197</a>\u001b[0m         query[\u001b[39m\"\u001b[39m\u001b[39mversion\u001b[39m\u001b[39m\"\u001b[39m] \u001b[39m=\u001b[39m get_latest_version(region\u001b[39m=\u001b[39mquery[\u001b[39m\"\u001b[39m\u001b[39mregion\u001b[39m\u001b[39m\"\u001b[39m], endpoint\u001b[39m=\u001b[39m\u001b[39mNone\u001b[39;00m)\n",
      "\u001b[1;31mTypeError\u001b[0m: __get_query_from_kwargs__() got an unexpected keyword argument 'summoner'"
     ]
    }
   ],
   "source": [
    "def filter_match_history(summoner, patch):\n",
    "    end_time = patch.end\n",
    "    if end_time is None:\n",
    "        end_time = arrow.now()\n",
    "    match_history = MatchHistory(\n",
    "        summoner=summoner,\n",
    "        queues={Queue.aram},\n",
    "        begin_time=patch.start,\n",
    "        end_time=end_time,\n",
    "    )\n",
    "    return match_history\n",
    "\n",
    "    \n",
    "def collect_matches(initial_summoner_name, region):\n",
    "    summoner = Summoner(name=initial_summoner_name, region=region)\n",
    "    patch = Patch.from_str(\"12.23\", region=region)\n",
    "\n",
    "    unpulled_summoner_ids = SortedList([summoner.id])\n",
    "    pulled_summoner_ids = SortedList()\n",
    "\n",
    "    unpulled_match_ids = SortedList()\n",
    "    pulled_match_ids = SortedList()\n",
    "\n",
    "    while unpulled_summoner_ids:\n",
    "        # Get a random summoner from our list of unpulled summoners and pull their match history\n",
    "        new_summoner_id = random.choice(unpulled_summoner_ids)\n",
    "        new_summoner = Summoner(id=new_summoner_id, region=region)\n",
    "        matches = filter_match_history(new_summoner, patch)\n",
    "        unpulled_match_ids.update([match.id for match in matches])\n",
    "        unpulled_summoner_ids.remove(new_summoner_id)\n",
    "        pulled_summoner_ids.add(new_summoner_id)\n",
    "\n",
    "        while unpulled_match_ids:\n",
    "            # Get a random match from our list of matches\n",
    "            new_match_id = random.choice(unpulled_match_ids)\n",
    "            new_match = Match(id=new_match_id, region=region)\n",
    "            for participant in new_match.participants:\n",
    "                if (\n",
    "                    participant.summoner.id not in pulled_summoner_ids\n",
    "                    and participant.summoner.id not in unpulled_summoner_ids\n",
    "                ):\n",
    "                    unpulled_summoner_ids.add(participant.summoner.id)\n",
    "            # The above lines will trigger the match to load its data by iterating over all the participants.\n",
    "            # If you have a database in your datapipeline, the match will automatically be stored in it.\n",
    "            unpulled_match_ids.remove(new_match_id)\n",
    "            pulled_match_ids.add(new_match_id)\n",
    "\n",
    "collect_matches(\"Ckronikks\", \"EUW\")"
   ]
  },
  {
   "cell_type": "code",
   "execution_count": 11,
   "metadata": {},
   "outputs": [
    {
     "ename": "TypeError",
     "evalue": "__get_query_from_kwargs__() got an unexpected keyword argument 'summoner'",
     "output_type": "error",
     "traceback": [
      "\u001b[1;31m---------------------------------------------------------------------------\u001b[0m",
      "\u001b[1;31mTypeError\u001b[0m                                 Traceback (most recent call last)",
      "Cell \u001b[1;32mIn[11], line 1\u001b[0m\n\u001b[1;32m----> 1\u001b[0m \u001b[43mcollect_matches\u001b[49m\u001b[43m(\u001b[49m\u001b[38;5;124;43m\"\u001b[39;49m\u001b[38;5;124;43mCkronikks\u001b[39;49m\u001b[38;5;124;43m\"\u001b[39;49m\u001b[43m,\u001b[49m\u001b[43m \u001b[49m\u001b[38;5;124;43m\"\u001b[39;49m\u001b[38;5;124;43mEUW\u001b[39;49m\u001b[38;5;124;43m\"\u001b[39;49m\u001b[43m)\u001b[49m\n",
      "Cell \u001b[1;32mIn[9], line 28\u001b[0m, in \u001b[0;36mcollect_matches\u001b[1;34m(initial_summoner_name, region)\u001b[0m\n\u001b[0;32m     26\u001b[0m new_summoner_id \u001b[38;5;241m=\u001b[39m random\u001b[38;5;241m.\u001b[39mchoice(unpulled_summoner_ids)\n\u001b[0;32m     27\u001b[0m new_summoner \u001b[38;5;241m=\u001b[39m Summoner(\u001b[38;5;28mid\u001b[39m\u001b[38;5;241m=\u001b[39mnew_summoner_id, region\u001b[38;5;241m=\u001b[39mregion)\n\u001b[1;32m---> 28\u001b[0m matches \u001b[38;5;241m=\u001b[39m \u001b[43mfilter_match_history\u001b[49m\u001b[43m(\u001b[49m\u001b[43mnew_summoner\u001b[49m\u001b[43m,\u001b[49m\u001b[43m \u001b[49m\u001b[43mpatch\u001b[49m\u001b[43m)\u001b[49m\n\u001b[0;32m     29\u001b[0m unpulled_match_ids\u001b[38;5;241m.\u001b[39mupdate([match\u001b[38;5;241m.\u001b[39mid \u001b[38;5;28;01mfor\u001b[39;00m match \u001b[38;5;129;01min\u001b[39;00m matches])\n\u001b[0;32m     30\u001b[0m unpulled_summoner_ids\u001b[38;5;241m.\u001b[39mremove(new_summoner_id)\n",
      "Cell \u001b[1;32mIn[9], line 5\u001b[0m, in \u001b[0;36mfilter_match_history\u001b[1;34m(summoner, patch)\u001b[0m\n\u001b[0;32m      3\u001b[0m \u001b[38;5;28;01mif\u001b[39;00m end_time \u001b[38;5;129;01mis\u001b[39;00m \u001b[38;5;28;01mNone\u001b[39;00m:\n\u001b[0;32m      4\u001b[0m     end_time \u001b[38;5;241m=\u001b[39m arrow\u001b[38;5;241m.\u001b[39mnow()\n\u001b[1;32m----> 5\u001b[0m match_history \u001b[38;5;241m=\u001b[39m \u001b[43mMatchHistory\u001b[49m\u001b[43m(\u001b[49m\n\u001b[0;32m      6\u001b[0m \u001b[43m    \u001b[49m\u001b[43msummoner\u001b[49m\u001b[38;5;241;43m=\u001b[39;49m\u001b[43msummoner\u001b[49m\u001b[43m,\u001b[49m\n\u001b[0;32m      7\u001b[0m \u001b[43m    \u001b[49m\u001b[43mqueues\u001b[49m\u001b[38;5;241;43m=\u001b[39;49m\u001b[43m{\u001b[49m\u001b[43mQueue\u001b[49m\u001b[38;5;241;43m.\u001b[39;49m\u001b[43maram\u001b[49m\u001b[43m}\u001b[49m\u001b[43m,\u001b[49m\n\u001b[0;32m      8\u001b[0m \u001b[43m    \u001b[49m\u001b[43mbegin_time\u001b[49m\u001b[38;5;241;43m=\u001b[39;49m\u001b[43mpatch\u001b[49m\u001b[38;5;241;43m.\u001b[39;49m\u001b[43mstart\u001b[49m\u001b[43m,\u001b[49m\n\u001b[0;32m      9\u001b[0m \u001b[43m    \u001b[49m\u001b[43mend_time\u001b[49m\u001b[38;5;241;43m=\u001b[39;49m\u001b[43mend_time\u001b[49m\u001b[43m,\u001b[49m\n\u001b[0;32m     10\u001b[0m \u001b[43m\u001b[49m\u001b[43m)\u001b[49m\n\u001b[0;32m     11\u001b[0m \u001b[38;5;28;01mreturn\u001b[39;00m match_history\n",
      "File \u001b[1;32m~\\AppData\\Local\\Packages\\PythonSoftwareFoundation.Python.3.9_qbz5n2kfra8p0\\LocalCache\\local-packages\\Python39\\site-packages\\cassiopeia\\core\\common.py:191\u001b[0m, in \u001b[0;36mGetFromPipeline.__call__\u001b[1;34m(cls, *args, **kwargs)\u001b[0m\n\u001b[0;32m    <a href='file:///~/AppData/Local/Packages/PythonSoftwareFoundation.Python.3.9_qbz5n2kfra8p0/LocalCache/local-packages/Python39/site-packages/cassiopeia/core/common.py?line=188'>189</a>\u001b[0m \u001b[39mdef\u001b[39;00m \u001b[39m__call__\u001b[39m(\u001b[39mcls\u001b[39m: \u001b[39m\"\u001b[39m\u001b[39mCassiopeiaPipelineObject\u001b[39m\u001b[39m\"\u001b[39m, \u001b[39m*\u001b[39margs, \u001b[39m*\u001b[39m\u001b[39m*\u001b[39mkwargs):\n\u001b[0;32m    <a href='file:///~/AppData/Local/Packages/PythonSoftwareFoundation.Python.3.9_qbz5n2kfra8p0/LocalCache/local-packages/Python39/site-packages/cassiopeia/core/common.py?line=189'>190</a>\u001b[0m     pipeline \u001b[39m=\u001b[39m configuration\u001b[39m.\u001b[39msettings\u001b[39m.\u001b[39mpipeline\n\u001b[1;32m--> <a href='file:///~/AppData/Local/Packages/PythonSoftwareFoundation.Python.3.9_qbz5n2kfra8p0/LocalCache/local-packages/Python39/site-packages/cassiopeia/core/common.py?line=190'>191</a>\u001b[0m     query \u001b[39m=\u001b[39m \u001b[39mcls\u001b[39m\u001b[39m.\u001b[39m__get_query_from_kwargs__(\u001b[39m*\u001b[39m\u001b[39m*\u001b[39mkwargs)\n\u001b[0;32m    <a href='file:///~/AppData/Local/Packages/PythonSoftwareFoundation.Python.3.9_qbz5n2kfra8p0/LocalCache/local-packages/Python39/site-packages/cassiopeia/core/common.py?line=191'>192</a>\u001b[0m     \u001b[39mif\u001b[39;00m (\n\u001b[0;32m    <a href='file:///~/AppData/Local/Packages/PythonSoftwareFoundation.Python.3.9_qbz5n2kfra8p0/LocalCache/local-packages/Python39/site-packages/cassiopeia/core/common.py?line=192'>193</a>\u001b[0m         \u001b[39mhasattr\u001b[39m(\u001b[39mcls\u001b[39m, \u001b[39m\"\u001b[39m\u001b[39mversion\u001b[39m\u001b[39m\"\u001b[39m)\n\u001b[0;32m    <a href='file:///~/AppData/Local/Packages/PythonSoftwareFoundation.Python.3.9_qbz5n2kfra8p0/LocalCache/local-packages/Python39/site-packages/cassiopeia/core/common.py?line=193'>194</a>\u001b[0m         \u001b[39mand\u001b[39;00m query\u001b[39m.\u001b[39mget(\u001b[39m\"\u001b[39m\u001b[39mversion\u001b[39m\u001b[39m\"\u001b[39m, \u001b[39mNone\u001b[39;00m) \u001b[39mis\u001b[39;00m \u001b[39mNone\u001b[39;00m\n\u001b[0;32m    <a href='file:///~/AppData/Local/Packages/PythonSoftwareFoundation.Python.3.9_qbz5n2kfra8p0/LocalCache/local-packages/Python39/site-packages/cassiopeia/core/common.py?line=194'>195</a>\u001b[0m         \u001b[39mand\u001b[39;00m \u001b[39mcls\u001b[39m\u001b[39m.\u001b[39m\u001b[39m__name__\u001b[39m \u001b[39mnot\u001b[39;00m \u001b[39min\u001b[39;00m [\u001b[39m\"\u001b[39m\u001b[39mRealms\u001b[39m\u001b[39m\"\u001b[39m, \u001b[39m\"\u001b[39m\u001b[39mMatch\u001b[39m\u001b[39m\"\u001b[39m]\n\u001b[0;32m    <a href='file:///~/AppData/Local/Packages/PythonSoftwareFoundation.Python.3.9_qbz5n2kfra8p0/LocalCache/local-packages/Python39/site-packages/cassiopeia/core/common.py?line=195'>196</a>\u001b[0m     ):\n\u001b[0;32m    <a href='file:///~/AppData/Local/Packages/PythonSoftwareFoundation.Python.3.9_qbz5n2kfra8p0/LocalCache/local-packages/Python39/site-packages/cassiopeia/core/common.py?line=196'>197</a>\u001b[0m         query[\u001b[39m\"\u001b[39m\u001b[39mversion\u001b[39m\u001b[39m\"\u001b[39m] \u001b[39m=\u001b[39m get_latest_version(region\u001b[39m=\u001b[39mquery[\u001b[39m\"\u001b[39m\u001b[39mregion\u001b[39m\u001b[39m\"\u001b[39m], endpoint\u001b[39m=\u001b[39m\u001b[39mNone\u001b[39;00m)\n",
      "\u001b[1;31mTypeError\u001b[0m: __get_query_from_kwargs__() got an unexpected keyword argument 'summoner'"
     ]
    }
   ],
   "source": [
    "collect_matches(\"Ckronikks\", \"EUW\")"
   ]
  }
 ],
 "metadata": {
  "kernelspec": {
   "display_name": "Python 3",
   "language": "python",
   "name": "python3"
  },
  "language_info": {
   "codemirror_mode": {
    "name": "ipython",
    "version": 3
   },
   "file_extension": ".py",
   "mimetype": "text/x-python",
   "name": "python",
   "nbconvert_exporter": "python",
   "pygments_lexer": "ipython3",
   "version": "3.10.5 (tags/v3.10.5:f377153, Jun  6 2022, 16:14:13) [MSC v.1929 64 bit (AMD64)]"
  },
  "orig_nbformat": 4,
  "vscode": {
   "interpreter": {
    "hash": "0f2f6c680cf484319d387fabac80ca4ff4fc33965036e02100b3fe02600f1423"
   }
  }
 },
 "nbformat": 4,
 "nbformat_minor": 2
}
